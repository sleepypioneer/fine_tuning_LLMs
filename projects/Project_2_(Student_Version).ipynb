{
  "nbformat": 4,
  "nbformat_minor": 0,
  "metadata": {
    "colab": {
      "provenance": [],
      "gpuType": "T4",
      "include_colab_link": true
    },
    "kernelspec": {
      "name": "python3",
      "display_name": "Python 3"
    },
    "language_info": {
      "name": "python"
    },
    "accelerator": "GPU"
  },
  "cells": [
    {
      "cell_type": "markdown",
      "metadata": {
        "id": "view-in-github",
        "colab_type": "text"
      },
      "source": [
        "<a href=\"https://colab.research.google.com/github/sleepypioneer/fine_tuning_LLMs/blob/main/projects/Project_2_(Student_Version).ipynb\" target=\"_parent\"><img src=\"https://colab.research.google.com/assets/colab-badge.svg\" alt=\"Open In Colab\"/></a>"
      ]
    },
    {
      "cell_type": "markdown",
      "source": [
        "# Project 2 Learning Goals\n",
        "\n",
        "1. **Fine-Tuning BERT**: Gain hands-on experience with fine-tuning a BERT model for Sentiment Analysis on financial data.\n",
        "2. **Tokenizer Usage**: Learn how to use a tokenizer for text-to-token mapping, padding, and truncation.\n",
        "3. **Training Setup**: Understand and utilize `TrainingArguments` and `Trainer` for model training.\n",
        "4. **Model Deployment**: Learn how to push models to the Hugging Face Hub."
      ],
      "metadata": {
        "id": "Q4N2X9u-xPnh"
      }
    },
    {
      "cell_type": "markdown",
      "source": [
        "## Setup & Imports"
      ],
      "metadata": {
        "id": "LCH7Tk6hHS9d"
      }
    },
    {
      "cell_type": "code",
      "source": [
        "!pip install transformers[torch] datasets evaluate --quiet\n",
        "!pip install einops --quiet"
      ],
      "metadata": {
        "id": "Q8VYxtmkHSgj"
      },
      "execution_count": null,
      "outputs": []
    },
    {
      "cell_type": "code",
      "source": [
        "from datasets import load_dataset\n",
        "import evaluate\n",
        "import matplotlib.pyplot as plt\n",
        "from typing import List, Dict, Any, Union, Generator, Callable, Tuple\n",
        "from transformers import AutoModelForSequenceClassification, AutoConfig, AutoTokenizer, DataCollatorWithPadding, TrainingArguments, Trainer\n",
        "from tqdm import tqdm\n",
        "import torch\n",
        "import numpy as np\n",
        "import unittest\n",
        "from unittest.mock import Mock, patch\n",
        "\n",
        "torch_device = \"cuda\" if torch.cuda.is_available() else \"cpu\""
      ],
      "metadata": {
        "id": "YgPQ926NHcU6"
      },
      "execution_count": null,
      "outputs": []
    },
    {
      "cell_type": "markdown",
      "source": [
        "## Dataset preparation\n",
        "\n",
        "We will be using the same dataset as Project 1, so let's just repeat some of that code here.  The Financial Phrasebook dataset is a relatively small dataset (<5000 examples) so we'll have a fairly aggressive train/test split (70/30).  Since Bert is pretrained, we don't need an enormous training set anyways."
      ],
      "metadata": {
        "id": "cXBpvdqEHOzW"
      }
    },
    {
      "cell_type": "code",
      "source": [
        "# Load the dataset with the 'sentences_50agree' configuration\n",
        "phrasebank = load_dataset(\"financial_phrasebank\", \"sentences_50agree\")\n",
        "\n",
        "# Split the 'train' data into training and test sets\n",
        "phrasebank_split = phrasebank[\"train\"].train_test_split(test_size=0.3, shuffle=True)\n",
        "\n",
        "# Retrieve the string version of the three classes of sentiments\n",
        "sentiment_names = phrasebank[\"train\"].features[\"label\"].names"
      ],
      "metadata": {
        "id": "AtWkDmk4xND9"
      },
      "execution_count": null,
      "outputs": []
    },
    {
      "cell_type": "markdown",
      "source": [
        "## Retrieve Pretrained Model\n",
        "We will retrieve the pretrained [Bert model](https://huggingface.co/bert-base-uncased) from HuggingFace. This is an encoder model that can easily be fine tuned to a variety of tasks.  In this project, we'll be fine-tuning it for classification on the Financial Phrasebank dataset."
      ],
      "metadata": {
        "id": "ysb90eA2JtGi"
      }
    },
    {
      "cell_type": "code",
      "source": [
        "# Retrieve the model and tokenizer for 'bert-base-uncased'\n",
        "model_name = 'bert-base-uncased'\n",
        "tokenizer = AutoTokenizer.from_pretrained(model_name)\n",
        "model = AutoModelForSequenceClassification.from_pretrained(model_name, num_labels=len(sentiment_names))\n",
        "# Note that we are specifying the number of labels we want.\n",
        "# This preconfigures the model with a softmax output layer over the appropriate number of classes."
      ],
      "metadata": {
        "id": "VPsNVraxxOWN"
      },
      "execution_count": null,
      "outputs": []
    },
    {
      "cell_type": "markdown",
      "source": [
        "## Tokenize Dataset\n",
        "In Project 1, we didn't tokenize the dataset because we only needed it ad hoc.  This time, we know that we'll be iterating over it a few times in training, so we'll tokenize the whole thing at first to save time later."
      ],
      "metadata": {
        "id": "q3tgjjO_NziL"
      }
    },
    {
      "cell_type": "code",
      "source": [
        "def tokenize_function(example: Dict[str, Union[str, int]]) -> Dict[str, torch.Tensor]:\n",
        "    \"\"\"Tokenizes a single example using a pre-trained tokenizer.\n",
        "\n",
        "    Args:\n",
        "        example: The example containing a sentence to tokenize.\n",
        "\n",
        "    Returns:\n",
        "        A dictionary containing tokenized input_ids and attention_mask, both as PyTorch tensors.\n",
        "    \"\"\"\n",
        "    tokenized_example = tokenizer(\n",
        "        example[\"sentence\"],\n",
        "        padding=True,\n",
        "        truncation=True,\n",
        "        return_tensors=\"pt\"\n",
        "    )\n",
        "    return tokenized_example\n",
        "\n",
        "# Map the train and test sets to tokenized versions of that data using the tokenize_function()\n",
        "train_tokenized_datasets = phrasebank_split[\"train\"].map(tokenize_function, batched=True)\n",
        "test_tokenized_datasets = phrasebank_split[\"test\"].map(tokenize_function, batched=True)"
      ],
      "metadata": {
        "id": "GsIs3yZBOBCe"
      },
      "execution_count": null,
      "outputs": []
    },
    {
      "cell_type": "markdown",
      "source": [
        "## Collator\n",
        "Next we'll create a data collator, which will ensure that all our data is padded appropriately as it is loaded in batches to the model.  Passing the tokenizer to the data collator serves a specific purpose: it allows the collator to know how to handle padding and other sequence manipulations in a way that is consistent with how the original tokenization was done."
      ],
      "metadata": {
        "id": "LMw2b09DWDVW"
      }
    },
    {
      "cell_type": "code",
      "source": [
        "data_collator = DataCollatorWithPadding(tokenizer=tokenizer)"
      ],
      "metadata": {
        "id": "mAIVk-A1xOYi"
      },
      "execution_count": null,
      "outputs": []
    },
    {
      "cell_type": "markdown",
      "source": [
        "## Setting Up Training Arguments\n",
        "\n",
        "Before we start the training process, we need to configure various training parameters. This is done using the `TrainingArguments` class from the Hugging Face Transformers library. Here's a breakdown of the parameters we are setting:\n",
        "\n",
        "- **output_dir**: This is the directory where the training outputs (like model checkpoints) will be saved. We set it to `\"phrasebank-sentiment-analysis\"`.\n",
        "\n",
        "- **evaluation_strategy**: This parameter defines how often the model should be evaluated during training. We set it to `\"steps\"`, meaning the model will be evaluated at regular step intervals.\n",
        "\n",
        "- **eval_steps**: This specifies the number of training steps between each evaluation. We set it to `100`.\n",
        "\n",
        "- **per_device_train_batch_size**: This is the batch size for each training step. A batch is a portion of the dataset used for training the model in a single step. We set it to `32`.\n",
        "\n",
        "- **logging_steps**: This defines how often training metrics should be logged. We set it to `100`, so metrics will be logged every 100 steps.\n",
        "\n",
        "- **num_train_epochs**: This is the number of times the training loop will iterate over the entire training dataset. We set it to `4`.\n",
        "\n",
        "By setting these parameters, we control various aspects of training, evaluation, and logging, making the training process more structured and easier to manage.\n"
      ],
      "metadata": {
        "id": "Qde2fPKPX0N6"
      }
    },
    {
      "cell_type": "code",
      "source": [
        "########################\n",
        "# START YOUR CODE HERE #\n",
        "########################\n",
        "# REPLACE None WITH YOUR CODE\n",
        "\n",
        "training_args = TrainingArguments(\n",
        "    None,\n",
        "    None,\n",
        "    None,\n",
        "    None,\n",
        "    None,\n",
        "    None)\n",
        "\n",
        "#########################\n",
        "# FINISH YOUR CODE HERE #\n",
        "#########################"
      ],
      "metadata": {
        "id": "lp66okolxOan"
      },
      "execution_count": null,
      "outputs": []
    },
    {
      "cell_type": "code",
      "source": [
        "# @title Test Your Code!\n",
        "class TestTrainingArguments(unittest.TestCase):\n",
        "\n",
        "    def test_training_args(self):\n",
        "        # Check each parameter\n",
        "        self.assertEqual(training_args.output_dir, \"phrasebank-sentiment-analysis\")\n",
        "        self.assertEqual(training_args.evaluation_strategy, \"steps\")\n",
        "        self.assertEqual(training_args.eval_steps, 100)\n",
        "        self.assertEqual(training_args.per_device_train_batch_size, 32)\n",
        "        self.assertEqual(training_args.logging_steps, 100)\n",
        "        self.assertEqual(training_args.num_train_epochs, 4)\n",
        "\n",
        "# Run the tests\n",
        "unittest.TextTestRunner().run(unittest.TestLoader().loadTestsFromTestCase(TestTrainingArguments))"
      ],
      "metadata": {
        "cellView": "form",
        "id": "KrK8DHe8qEw9"
      },
      "execution_count": null,
      "outputs": []
    },
    {
      "cell_type": "markdown",
      "source": [
        "## Defining Custom Evaluation Metrics\n",
        "\n",
        "To evaluate the performance of our fine-tuned model, we define a function called `compute_metrics`. This function will compute the F1 score and accuracy for the model's predictions.\n",
        "\n",
        "Here's a breakdown of what the function does:\n",
        "\n",
        "- **f1_metric and accuracy_metric**: We load F1 and accuracy evaluation metrics using a hypothetical `evaluate.load` method. These metrics are widely used for classification tasks.\n",
        "\n",
        "- **logits, labels**: The function takes `eval_preds` as input, which is a tuple containing the logits (model outputs) and the true labels.\n",
        "\n",
        "- **predictions**: We use NumPy's `argmax` function to find the index (class label) with the maximum value for each logit vector. This converts the logits to class labels.\n",
        "\n",
        "- **f1_score**: We compute the F1 score using the loaded `f1_metric`. We set the average parameter to `\"macro\"` to calculate the metric independently for each class and then find the average.\n",
        "\n",
        "- **accuracy**: We compute the accuracy using the loaded `accuracy_metric`.\n",
        "\n",
        "The function then returns a dictionary containing these computed metrics."
      ],
      "metadata": {
        "id": "TcTeEo7nYUJL"
      }
    },
    {
      "cell_type": "code",
      "source": [
        "def compute_metrics(eval_preds: Tuple[np.ndarray, np.ndarray]) -> Dict[str, float]:\n",
        "    \"\"\"Computes F1 score and accuracy for model evaluation.\n",
        "\n",
        "    This function takes a tuple containing the predicted logits and true labels,\n",
        "    and computes the F1 score and accuracy. It uses pre-loaded evaluation metrics\n",
        "    for F1 and accuracy, assumed to be loaded via a hypothetical `evaluate.load` method.\n",
        "\n",
        "    Args:\n",
        "        eval_preds: A tuple containing two NumPy arrays.\n",
        "                    The first array contains the predicted logits.\n",
        "                    The second array contains the true labels.\n",
        "\n",
        "    Returns:\n",
        "        A dictionary containing the F1 score and accuracy as scalar values.\n",
        "    \"\"\"\n",
        "\n",
        "    ########################\n",
        "    # START YOUR CODE HERE #\n",
        "    ########################\n",
        "    # REPLACE None WITH YOUR CODE\n",
        "\n",
        "    # Load evaluation metrics\n",
        "    f1_metric = evaluate.load(None))\n",
        "    accuracy_metric = evaluate.load(None)\n",
        "\n",
        "    # Extract logits and labels from eval_preds\n",
        "    logits, labels = eval_preds\n",
        "\n",
        "    # Convert logits to class labels\n",
        "    predictions = np.argmax(None, axis=-1)\n",
        "\n",
        "    # Compute F1 score and extract the scalar value\n",
        "    f1_result = f1_metric.compute(predictions=None, references=None, average=\"macro\")\n",
        "    f1_score = f1_result['f1'] if isinstance(f1_result, dict) else f1_result\n",
        "\n",
        "    # Compute accuracy and extract the scalar value\n",
        "    accuracy_result = accuracy_metric.compute(predictions=None, references=None)\n",
        "    accuracy_score = accuracy_result['accuracy'] if isinstance(accuracy_result, dict) else accuracy_result\n",
        "\n",
        "    #########################\n",
        "    # FINISH YOUR CODE HERE #\n",
        "    #########################\n",
        "\n",
        "    return {\"F1\": f1_score, \"Accuracy\": accuracy_score}\n"
      ],
      "metadata": {
        "id": "agC_qxBKYUwg"
      },
      "execution_count": null,
      "outputs": []
    },
    {
      "cell_type": "code",
      "source": [
        "# @title Test Your Code!\n",
        "from sklearn.metrics import f1_score, accuracy_score\n",
        "\n",
        "class TestComputeMetrics(unittest.TestCase):\n",
        "\n",
        "    def test_compute_metrics(self):\n",
        "        # Create example data: 3 correct predictions, 3 incorrect predictions\n",
        "        true_labels = np.array([0, 1, 0, 1, 1, 0])\n",
        "        pred_logits = np.array([[0.7, 0.3], [0.4, 0.6], [0.6, 0.4], [0.35, 0.65], [0.8, 0.2], [0.4, 0.6]])\n",
        "\n",
        "        # Compute expected F1 and accuracy using sklearn\n",
        "        pred_labels = np.argmax(pred_logits, axis=-1)\n",
        "        expected_f1 = f1_score(true_labels, pred_labels, average='macro')\n",
        "        expected_accuracy = accuracy_score(true_labels, pred_labels)\n",
        "\n",
        "        # Compute metrics using the function to be tested\n",
        "        result = compute_metrics((pred_logits, true_labels))\n",
        "\n",
        "        # Validate the results\n",
        "        self.assertAlmostEqual(result[\"F1\"], expected_f1, places=5)\n",
        "        self.assertAlmostEqual(result[\"Accuracy\"], expected_accuracy, places=5)\n",
        "\n",
        "# Run the tests in the notebook\n",
        "unittest.TextTestRunner().run(unittest.TestLoader().loadTestsFromTestCase(TestComputeMetrics))\n"
      ],
      "metadata": {
        "cellView": "form",
        "id": "RRY7kG9ZqdLt"
      },
      "execution_count": null,
      "outputs": []
    },
    {
      "cell_type": "markdown",
      "source": [
        "### Initializing the Trainer\n",
        "\n",
        "In this section, we initialize the `Trainer` class provided by the Hugging Face Transformers library. The `Trainer` is responsible for managing the training and evaluation loops. Below is an explanation of each argument passed to the `Trainer`:\n",
        "\n",
        "- `model.to(torch_device)`: The pre-trained model fine-tuned for our specific task. It is moved to the device specified by `torch_device` (either CPU or GPU).\n",
        "  \n",
        "- `training_args`: This contains various training arguments like the output directory, evaluation strategy, batch size, etc., which are defined in a `TrainingArguments` object.\n",
        "  \n",
        "- `train_dataset=train_tokenized_datasets`: This is the tokenized version of our training dataset, which the `Trainer` will use during the training process.\n",
        "  \n",
        "- `eval_dataset=test_tokenized_datasets`: Similar to `train_dataset`, this is the tokenized version of our test dataset used during the evaluation steps.\n",
        "  \n",
        "- `data_collator=data_collator`: A data collator is responsible for batching together samples for training and evaluation. Here, we use a predefined data collator suitable for our task.\n",
        "  \n",
        "- `tokenizer=tokenizer`: The tokenizer is responsible for converting text into tokens that the model can understand. Although not strictly necessary for training, it is often useful for post-training tasks like inference.\n",
        "  \n",
        "- `compute_metrics=compute_metrics`: This function is used to compute evaluation metrics, like F1 score and accuracy, at the end of each evaluation loop.\n",
        "  \n",
        "By initializing the `Trainer` with these arguments, we set up a robust training and evaluation loop that takes care of most of the heavy lifting for us.\n"
      ],
      "metadata": {
        "id": "G_6PWrKUmUS2"
      }
    },
    {
      "cell_type": "code",
      "source": [
        "########################\n",
        "# START YOUR CODE HERE #\n",
        "########################\n",
        "# REPLACE None WITH YOUR CODE\n",
        "\n",
        "trainer = Trainer(\n",
        "    None,\n",
        "    None,\n",
        "    None,\n",
        "    None,\n",
        "    None,\n",
        "    None,\n",
        "    None)\n",
        "\n",
        "#########################\n",
        "# FINISH YOUR CODE HERE #\n",
        "#########################\n",
        "\n",
        "# Note: There is not unit test for this function.\n",
        "# If the training loop in the next code cell works, then you've succeeded!"
      ],
      "metadata": {
        "id": "7OfDmcOvxOcs"
      },
      "execution_count": null,
      "outputs": []
    },
    {
      "cell_type": "markdown",
      "source": [
        "### Starting the Training Process\n",
        "\n",
        "The `trainer.train()` method is called to start the actual training of the model. This function initiates the training loop that iterates over the training dataset, updates the model parameters, and performs evaluations based on the configurations we set in `TrainingArguments` and `Trainer`.\n",
        "\n",
        "When this method is called, the following steps are executed:\n",
        "\n",
        "1. **Initialization**: The model and optimizer are initialized based on the configurations.\n",
        "  \n",
        "2. **Training Loop**: The model iterates over the training data in batches, performing forward and backward passes, and updating the model weights.\n",
        "  \n",
        "3. **Evaluation**: If specified in `TrainingArguments`, the model is evaluated on the test dataset at regular intervals. Metrics like F1 score and accuracy are computed using the `compute_metrics` function.\n",
        "  \n",
        "4. **Logging**: Training and evaluation statistics are logged, which can be viewed in real-time if a logging utility like TensorBoard is used.\n",
        "\n",
        "By calling this single method, the entire training, evaluation, and logging pipeline is executed, simplifying the process into a one-step operation.\n"
      ],
      "metadata": {
        "id": "3cRi4I1wo0rc"
      }
    },
    {
      "cell_type": "code",
      "source": [
        "trainer.train()"
      ],
      "metadata": {
        "id": "32kUQjWlxOey"
      },
      "execution_count": null,
      "outputs": []
    },
    {
      "cell_type": "markdown",
      "source": [
        "### Authentication and Model Upload to Hugging Face Hub\n",
        "\n",
        "#### Authentication\n",
        "The `notebook_login()` function from the `huggingface_hub` library is used to authenticate your notebook with your Hugging Face account. This step is essential for pushing models to the Hugging Face Model Hub. A pop-up will appear that will ask for your Hugging Face credentials.\n",
        "\n",
        "#### Pushing Model to the Hub\n",
        "After successful authentication, we call `trainer.push_to_hub()` to upload the trained model to the Hugging Face Model Hub.\n",
        "\n",
        "Here's what happens when you execute this code:\n",
        "\n",
        "1. **Authentication**: The `notebook_login()` function prompts you to log in to your Hugging Face account, allowing you secure access to push models to the hub.\n",
        "\n",
        "2. **Model Upload**: The `trainer.push_to_hub()` method uploads all model files (model weights, configuration, etc.) to your Hugging Face account. The model will be publicly available, and others can download it using its identifier.\n",
        "\n",
        "By running these commands, you not only preserve your model but also make it accessible to the wider community for various NLP tasks."
      ],
      "metadata": {
        "id": "RgUgyH84pGJL"
      }
    },
    {
      "cell_type": "code",
      "source": [
        "from huggingface_hub import notebook_login\n",
        "notebook_login()"
      ],
      "metadata": {
        "id": "CuwLBpt2xOg4"
      },
      "execution_count": null,
      "outputs": []
    },
    {
      "cell_type": "code",
      "source": [
        "# Push to the hub\n",
        "model_url = trainer.push_to_hub()\n",
        "print(f'Find your new model here:  {model_url}')"
      ],
      "metadata": {
        "id": "jryxFOeExOjO"
      },
      "execution_count": null,
      "outputs": []
    },
    {
      "cell_type": "markdown",
      "source": [
        "# Project 2 Wrap-Up\n",
        "\n",
        "## Summary\n",
        "\n",
        "In this project, we successfully achieved the following learning goals:\n",
        "\n",
        "### Fine-Tuning BERT\n",
        "We downloaded a pre-trained BERT model and fine-tuned it for the task of Sentiment Analysis, specifically focusing on financial data. This gave us hands-on experience with adapting a general-purpose language model to a specialized task.\n",
        "\n",
        "### Tokenizer Usage\n",
        "We learned how to use a tokenizer for essential text processing steps such as text-to-token mapping, padding, and truncation. This is crucial for preparing textual data for model training.\n",
        "\n",
        "### Training Setup\n",
        "We utilized the `TrainingArguments` and `Trainer` classes from the Hugging Face Transformers library. This encapsulates best practices for training transformer models and provided a streamlined way to set up and execute the training process.\n",
        "\n",
        "### Model Deployment\n",
        "Finally, we pushed our fine-tuned model to the Hugging Face Hub. This allows for easy sharing of the model and offers a platform for community evaluation and usage.\n",
        "\n",
        "## Optional Steps for Future Exploration\n",
        "- **Evaluation Metrics**: Dive deeper into the evaluation metrics, possibly comparing them with benchmarks or other models.\n",
        "- **Model Interpretability**: Investigate why the model makes specific predictions to understand it better.\n",
        "- **Hyperparameter Tuning**: Experiment with different hyperparameters to potentially improve model performance.\n",
        "- **Version Control**: Learn to manage different versions of the model on the Hub.\n",
        "- **Real-World Testing**: Demonstrate how to use the deployed model for sentiment analysis on new financial data.\n",
        "- **Documentation**: Add detailed documentation to enhance the project's understandability and reusability."
      ],
      "metadata": {
        "id": "YlQILuCTsgpP"
      }
    },
    {
      "cell_type": "code",
      "source": [],
      "metadata": {
        "id": "4jb5i0_hsmsF"
      },
      "execution_count": null,
      "outputs": []
    }
  ]
}